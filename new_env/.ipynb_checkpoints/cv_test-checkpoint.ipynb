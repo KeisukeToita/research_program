{
 "cells": [
  {
   "cell_type": "code",
   "execution_count": 15,
   "id": "50d2e873-813e-483c-b5ce-c1b9d69aaae1",
   "metadata": {},
   "outputs": [],
   "source": [
    "from PIL import Image, ImageFilter, ImageDraw"
   ]
  },
  {
   "cell_type": "code",
   "execution_count": 16,
   "id": "553ccc78-4c11-4fad-9d9b-dbe0e3341837",
   "metadata": {},
   "outputs": [],
   "source": [
    "import cv2\n",
    "import numpy as np\n",
    "import math\n",
    "\n",
    "def make_img(conf):\n",
    "    size = conf[\"size\"]\n",
    "    img = np.full((size*120, size*120, 3), 255, dtype=np.uint8)\n",
    "    \n",
    "    #write title and so on\n",
    "    episode = \"episode\"+str(conf[\"episode\"])\n",
    "    cv2.putText(img, episode, (size*50, size*5), cv2.FONT_HERSHEY_COMPLEX, 1.5, (0, 0, 0), lineType=cv2.LINE_AA)\n",
    "    \n",
    "    cv2.putText(img, \"0\", (size*5, size*115), cv2.FONT_HERSHEY_COMPLEX, 1.5, (0, 0, 0), lineType=cv2.LINE_AA)\n",
    "    cv2.putText(img, \"10\", (size*3, size*11), cv2.FONT_HERSHEY_COMPLEX, 1.5, (0, 0, 0), lineType=cv2.LINE_AA)\n",
    "    cv2.putText(img, \"10\", (size*108, size*115), cv2.FONT_HERSHEY_COMPLEX, 1.5, (0, 0, 0), lineType=cv2.LINE_AA)\n",
    "    \n",
    "    #make goal\n",
    "    goal_color = [(255,0,0),\n",
    "                  (0,255,0),\n",
    "                  (0,0,255),\n",
    "                  (255,0,255)]\n",
    "    \n",
    "    cv2.rectangle(img, (size*10*10, size*10*1), (size*10*11, size*10*2), goal_color[0], thickness=-1)\n",
    "    cv2.rectangle(img, (size*10*1, size*10*10), (size*10*2, size*10*11), goal_color[1], thickness=-1)\n",
    "    cv2.rectangle(img, (size*10*1, size*10*1), (size*10*2, size*10*2), goal_color[2], thickness=-1)\n",
    "    cv2.rectangle(img, (size*10*10, size*10*10), (size*10*11, size*10*11), goal_color[3], thickness=-1)\n",
    "    \n",
    "    #write grid\n",
    "    for i in range(1, 12):\n",
    "        cv2.line(img, (size*10*i, size*10), (size*10*i, size*110), (0,0,0), thickness=2)\n",
    "        cv2.line(img, (size*10, size*10*i), (size*110, size*10*i), (0,0,0), thickness=2)\n",
    "    \n",
    "    #put agent\n",
    "    agent_num = 2\n",
    "    for i in range(conf[\"agent_num\"]):\n",
    "        stri = str(i+1)\n",
    "        x, y = conf[\"agent\"+stri+\"_x\"], conf[\"agent\"+stri+\"_y\"]\n",
    "        s_x, s_y = int((x+1)*10*size), int((12-y-1)*10*size)\n",
    "        angle = conf[\"agent\"+stri+\"_angle\"]\n",
    "        put_agent(img, x, y, angle, size)\n",
    "        cv2.putText(img, stri, (s_x-16, s_y+16), cv2.FONT_HERSHEY_COMPLEX, size*0.2, (255, 255, 255), lineType=cv2.LINE_AA)\n",
    "        \n",
    "        \n",
    "    #save img\n",
    "    cv2.imshow('image', img)\n",
    "    cv2.waitKey(0)\n",
    "    cv2.destroyAllWindows()\n",
    "    \n",
    "def put_agent(img, x, y, angle, size):\n",
    "    s_x, s_y = int((x+1)*10*size), int((12-y-1)*10*size)\n",
    "    cv2.circle(img, (s_x, s_y), size*3, (0, 0, 0), thickness=-1)\n",
    "    arrowlength = 70\n",
    "    angle = math.radians(angle + 90)\n",
    "    arrx, arry = int(math.sin(angle)*50 + s_x), int(math.cos(angle)*50 + s_y)\n",
    "    cv2.arrowedLine(img, (s_x, s_y), (arrx, arry), (0, 0, 0), thickness=3)\n"
   ]
  },
  {
   "cell_type": "code",
   "execution_count": null,
   "id": "488b6635-11e1-473c-8362-2b6315cd34cc",
   "metadata": {},
   "outputs": [],
   "source": [
    "img_make_config = {\"size\":6,\n",
    "                   \"agent_num\":2,\n",
    "                   \"episode\":5,\n",
    "                   \"agent1_x\":3.5,\n",
    "                   \"agent1_y\":3.5,\n",
    "                   \"agent1_angle\":52,\n",
    "                   \"agent2_x\":4.5,\n",
    "                   \"agent2_y\":4.5,\n",
    "                   \"agent2_angle\":270}\n",
    "\n",
    "\n",
    "make_img(img_make_config)"
   ]
  },
  {
   "cell_type": "code",
   "execution_count": null,
   "id": "e2ac4941-29fc-44a8-8f48-715e6682ca29",
   "metadata": {},
   "outputs": [],
   "source": []
  }
 ],
 "metadata": {
  "kernelspec": {
   "display_name": "Python 3",
   "language": "python",
   "name": "python3"
  },
  "language_info": {
   "codemirror_mode": {
    "name": "ipython",
    "version": 3
   },
   "file_extension": ".py",
   "mimetype": "text/x-python",
   "name": "python",
   "nbconvert_exporter": "python",
   "pygments_lexer": "ipython3",
   "version": "3.7.10"
  }
 },
 "nbformat": 4,
 "nbformat_minor": 5
}
