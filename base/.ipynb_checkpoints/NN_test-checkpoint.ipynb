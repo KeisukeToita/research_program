{
 "cells": [
  {
   "cell_type": "code",
   "execution_count": 1,
   "id": "ade127ee",
   "metadata": {},
   "outputs": [],
   "source": [
    "import numpy as np\n",
    "from tensorflow import keras as K"
   ]
  },
  {
   "cell_type": "code",
   "execution_count": 4,
   "id": "7e12d691",
   "metadata": {},
   "outputs": [
    {
     "name": "stdout",
     "output_type": "stream",
     "text": [
      "Weights shape is (2, 4)\n",
      "Bias shape is (4,)\n",
      "x is ((1, 2)) and y is ((1, 4))\n"
     ]
    }
   ],
   "source": [
    "model = K.Sequential([\n",
    "    K.layers.Dense(units=4, input_shape=((2,))),\n",
    "])\n",
    "\n",
    "weight, bias = model.layers[0].get_weights()\n",
    "print(\"Weights shape is {}\".format(weight.shape))\n",
    "print(\"Bias shape is {}\".format(bias.shape))\n",
    "\n",
    "x = np.random.rand(1, 2)\n",
    "y = model.predict(x)\n",
    "\n",
    "print(\"x is ({}) and y is ({})\".format(x.shape, y.shape))"
   ]
  },
  {
   "cell_type": "markdown",
   "id": "23ccbe11",
   "metadata": {},
   "source": [
    "## 複数層のNN"
   ]
  },
  {
   "cell_type": "code",
   "execution_count": 5,
   "id": "6377473e",
   "metadata": {},
   "outputs": [],
   "source": [
    "from tensorflow.python import keras as K"
   ]
  },
  {
   "cell_type": "code",
   "execution_count": 6,
   "id": "8db91631",
   "metadata": {},
   "outputs": [
    {
     "name": "stdout",
     "output_type": "stream",
     "text": [
      "(3, 4)\n"
     ]
    }
   ],
   "source": [
    "model = K.Sequential([\n",
    "    K.layers.Dense(units=4, input_shape=((2,)), activation=\"sigmoid\"),\n",
    "    K.layers.Dense(units=4),\n",
    "])\n",
    "\n",
    "batch = np.random.rand(3, 2)\n",
    "\n",
    "y = model.predict(batch)\n",
    "print(y.shape)"
   ]
  },
  {
   "cell_type": "markdown",
   "id": "5ed45b7a",
   "metadata": {},
   "source": [
    "## パラメータ調整"
   ]
  },
  {
   "cell_type": "code",
   "execution_count": 7,
   "id": "9d98c078",
   "metadata": {},
   "outputs": [],
   "source": [
    "import numpy as np\n",
    "from sklearn.model_selection import train_test_split\n",
    "from sklearn.datasets import load_boston\n",
    "import pandas as pd\n",
    "import matplotlib.pyplot as plt\n",
    "from tensorflow.python import keras as K"
   ]
  },
  {
   "cell_type": "code",
   "execution_count": 8,
   "id": "37c7ffb2",
   "metadata": {},
   "outputs": [],
   "source": [
    "dataset = load_boston()\n",
    "\n",
    "y = dataset.target\n",
    "X = dataset.data\n",
    "\n",
    "X_train, X_test, y_train, y_test = train_test_split(X, y, test_size = 0.33)"
   ]
  },
  {
   "cell_type": "code",
   "execution_count": 12,
   "id": "31dc6aeb",
   "metadata": {},
   "outputs": [
    {
     "name": "stdout",
     "output_type": "stream",
     "text": [
      "Epoch 1/8\n",
      "11/11 [==============================] - 0s 1ms/step - loss: 173.8888\n",
      "Epoch 2/8\n",
      "11/11 [==============================] - 0s 637us/step - loss: 61.3577\n",
      "Epoch 3/8\n",
      "11/11 [==============================] - 0s 728us/step - loss: 30.8729\n",
      "Epoch 4/8\n",
      "11/11 [==============================] - 0s 726us/step - loss: 31.5098\n",
      "Epoch 5/8\n",
      "11/11 [==============================] - 0s 726us/step - loss: 49.2832\n",
      "Epoch 6/8\n",
      "11/11 [==============================] - 0s 726us/step - loss: 28.4637\n",
      "Epoch 7/8\n",
      "11/11 [==============================] - 0s 818us/step - loss: 25.2840\n",
      "Epoch 8/8\n",
      "11/11 [==============================] - 0s 636us/step - loss: 30.4825\n"
     ]
    },
    {
     "data": {
      "text/plain": [
       "<function matplotlib.pyplot.show(close=None, block=None)>"
      ]
     },
     "execution_count": 12,
     "metadata": {},
     "output_type": "execute_result"
    },
    {
     "data": {
      "image/png": "[encoded data removed]",
      "text/plain": [
       "<Figure size 432x288 with 1 Axes>"
      ]
     },
     "metadata": {
      "needs_background": "light"
     },
     "output_type": "display_data"
    }
   ],
   "source": [
    "model = K.Sequential([\n",
    "    K.layers.BatchNormalization(input_shape=(13,)),\n",
    "    K.layers.Dense(units=13, activation=\"softplus\", kernel_regularizer=\"l1\"),\n",
    "    K.layers.Dense(units=1)\n",
    "])\n",
    "\n",
    "model.compile(loss=\"mean_squared_error\", optimizer=\"sgd\")\n",
    "model.fit(X_train, y_train, epochs=8)\n",
    "\n",
    "predicts = model.predict(X_test)\n",
    "result = pd.DataFrame({\n",
    "    \"predict\" : np.reshape(predicts, (-1,)),\n",
    "    \"actual\": y_test\n",
    "})\n",
    "limit = np.max(y_test)\n",
    "\n",
    "result.plot.scatter(x=\"actual\", y=\"predict\", xlim=(0,limit), ylim=(0,limit))\n",
    "plt.show"
   ]
  },
  {
   "cell_type": "markdown",
   "id": "b0378baf",
   "metadata": {},
   "source": [
    "## 実際に適用"
   ]
  },
  {
   "cell_type": "code",
   "execution_count": 1,
   "id": "4ba29f33",
   "metadata": {},
   "outputs": [],
   "source": [
    "import os\n",
    "import io\n",
    "import re\n",
    "from collections import namedtuple\n",
    "from collections import deque\n",
    "import numpy as np\n",
    "import tensorflow as tf\n",
    "from tensorflow.python import keras as K\n",
    "from PIL import Image\n",
    "import matplotlib.pyplot as plt"
   ]
  },
  {
   "cell_type": "code",
   "execution_count": 15,
   "id": "ab21c364",
   "metadata": {},
   "outputs": [],
   "source": [
    "Experience = namedtuple(\"Experience\",\n",
    "                       [\"s\", \"a\", \"r\", \"n_s\", \"d\"])"
   ]
  },
  {
   "cell_type": "code",
   "execution_count": 16,
   "id": "3356674c",
   "metadata": {},
   "outputs": [],
   "source": [
    "class FNAgent():\n",
    "    \n",
    "    def __init__(self, epsilon, actions):\n",
    "        self.epsilon = epsilon\n",
    "        self.actions = actions\n",
    "        self.model = None\n",
    "        self.estimate_probs = False\n",
    "        self.initialized = False\n",
    "        \n",
    "    def save(self, model_path):\n",
    "        self.model.save(model, overwrite=True, include_optimizer=False)\n",
    "        \n",
    "    @classmethod\n",
    "    def load(cls, env, model_path, epsilon=0.0001):\n",
    "        actions = list(range(env.action_space.n))\n",
    "        agent = cls(epsilon, actions)\n",
    "        agent.model = K.models.load_model(model_path)\n",
    "        agent.initialized = True\n",
    "        return agent\n",
    "    \n",
    "    def initialize(self, experiences):\n",
    "        raise NotImplementedError(\"You have to implement initialize method\")\n",
    "        \n",
    "    def estimate(self, s):\n",
    "        raise NotImplementedError(\"You have to implement initialize method\")\n",
    "        \n",
    "    def update(self, experiences, gamma):\n",
    "        raise NotImplementedError(\"You have to implement initialize method\")\n",
    "        \n",
    "    def policy(self, s):\n",
    "        if np.random.random() < self.epsilon or not self.initialized:\n",
    "            return np.random.randint(len(self.actions))\n",
    "        else:\n",
    "            estimates = self.estimate(s)\n",
    "            if self.estimate_probs:\n",
    "                action = np.random.choice(self.actions, size=1, p=estimates)[0]\n",
    "                return action\n",
    "            else:\n",
    "                return np.argmax(estimates)\n",
    "            \n",
    "    def play(self, env, episode_count=5, render=True):\n",
    "        for e in range(episode_count):\n",
    "            s = env.reset()\n",
    "            done = False\n",
    "            episode_reward = 0\n",
    "            while not done:\n",
    "                if render:\n",
    "                    env.render()\n",
    "                a = self.policy(s)\n",
    "                n_state, reward, done, info = env.step(a)\n",
    "                episode_reward += reward\n",
    "                s = n_state\n",
    "            else:\n",
    "                print(\"Get reward {}\".format(episode_reward))"
   ]
  },
  {
   "cell_type": "code",
   "execution_count": null,
   "id": "db1ea234",
   "metadata": {},
   "outputs": [],
   "source": [
    "class Trainer():\n",
    "    \n",
    "    def __init__(self, buffer_size=1024, batch_size=32,\n",
    "                gamma=0.9, report_interval=10, log_dir=\"\"):\n",
    "        self.buffer_size = buffer_size\n",
    "        self.batch_size = batch_size\n",
    "        self.gamma = gamma\n",
    "        self.report_interval = report_interval\n",
    "        self.logger = Logger(log_dir, self.trainer_name)\n",
    "        self.experiences = deque(maxlen=buffer_size)\n",
    "        self.training = False\n",
    "        self.training_count = 0\n",
    "        self.reward_log = []\n",
    "        \n",
    "    @property\n",
    "    def Trainer_name(self):\n",
    "        class_name = self. class . name\n",
    "        snaked = re.sub(\"(.)([A-Z][a-z]+)\", r\"\\1_\\2\", class_name)\n",
    "        snaked = re.sub(\"([a-z0-9])([A-Z])\",r\"\\1_\\2\", snaked).lower()\n",
    "        snaked.replace(\"_trainer\", \"\")\n",
    "        return snaked\n",
    "    \n",
    "    def train_loop(self, env, agent, episode=200, initial_count=-1,\n",
    "                  render=False, observe_interval=0):\n",
    "        self.experiences = deque(maxlen=self.buffer_size)\n",
    "        self.training = False\n",
    "        self.training_count = 0\n",
    "        self.reward_log = []\n",
    "        frames = []\n",
    "        \n",
    "        for i in range(episode):\n",
    "            s = env.reset()\n",
    "            done = False\n",
    "            step_count = 0\n",
    "            self.episode_begin(i, agent)\n",
    "            while not done:\n",
    "                if render:\n",
    "                    env.render()\n",
    "                    "
   ]
  },
  {
   "cell_type": "code",
   "execution_count": 2,
   "id": "d4bf6c0d",
   "metadata": {},
   "outputs": [],
   "source": []
  }
 ],
 "metadata": {
  "kernelspec": {
   "display_name": "Python 3",
   "language": "python",
   "name": "python3"
  },
  "language_info": {
   "codemirror_mode": {
    "name": "ipython",
    "version": 3
   },
   "file_extension": ".py",
   "mimetype": "text/x-python",
   "name": "python",
   "nbconvert_exporter": "python",
   "pygments_lexer": "ipython3",
   "version": "3.7.10"
  }
 },
 "nbformat": 4,
 "nbformat_minor": 5
}
