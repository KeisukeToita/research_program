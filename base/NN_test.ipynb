{
 "cells": [
  {
   "cell_type": "code",
   "execution_count": 1,
   "source": [
    "import numpy as np\r\n",
    "from tensorflow import keras as K"
   ],
   "outputs": [],
   "metadata": {}
  },
  {
   "cell_type": "code",
   "execution_count": 4,
   "source": [
    "model = K.Sequential([\r\n",
    "    K.layers.Dense(units=4, input_shape=((2,))),\r\n",
    "])\r\n",
    "\r\n",
    "weight, bias = model.layers[0].get_weights()\r\n",
    "print(\"Weights shape is {}\".format(weight.shape))\r\n",
    "print(\"Bias shape is {}\".format(bias.shape))\r\n",
    "\r\n",
    "x = np.random.rand(1, 2)\r\n",
    "y = model.predict(x)\r\n",
    "\r\n",
    "print(\"x is ({}) and y is ({})\".format(x.shape, y.shape))"
   ],
   "outputs": [
    {
     "output_type": "stream",
     "name": "stdout",
     "text": [
      "Weights shape is (2, 4)\n",
      "Bias shape is (4,)\n",
      "x is ((1, 2)) and y is ((1, 4))\n"
     ]
    }
   ],
   "metadata": {}
  },
  {
   "cell_type": "markdown",
   "source": [
    "## 複数層のNN"
   ],
   "metadata": {}
  },
  {
   "cell_type": "code",
   "execution_count": 5,
   "source": [
    "from tensorflow.python import keras as K"
   ],
   "outputs": [],
   "metadata": {}
  },
  {
   "cell_type": "code",
   "execution_count": 6,
   "source": [
    "model = K.Sequential([\r\n",
    "    K.layers.Dense(units=4, input_shape=((2,)), activation=\"sigmoid\"),\r\n",
    "    K.layers.Dense(units=4),\r\n",
    "])\r\n",
    "\r\n",
    "batch = np.random.rand(3, 2)\r\n",
    "\r\n",
    "y = model.predict(batch)\r\n",
    "print(y.shape)"
   ],
   "outputs": [
    {
     "output_type": "stream",
     "name": "stdout",
     "text": [
      "(3, 4)\n"
     ]
    }
   ],
   "metadata": {}
  },
  {
   "cell_type": "markdown",
   "source": [
    "## パラメータ調整"
   ],
   "metadata": {}
  },
  {
   "cell_type": "code",
   "execution_count": 7,
   "source": [
    "import numpy as np\r\n",
    "from sklearn.model_selection import train_test_split\r\n",
    "from sklearn.datasets import load_boston\r\n",
    "import pandas as pd\r\n",
    "import matplotlib.pyplot as plt\r\n",
    "from tensorflow.python import keras as K"
   ],
   "outputs": [],
   "metadata": {}
  },
  {
   "cell_type": "code",
   "execution_count": 8,
   "source": [
    "dataset = load_boston()\r\n",
    "\r\n",
    "y = dataset.target\r\n",
    "X = dataset.data\r\n",
    "\r\n",
    "X_train, X_test, y_train, y_test = train_test_split(X, y, test_size = 0.33)"
   ],
   "outputs": [],
   "metadata": {}
  },
  {
   "cell_type": "code",
   "execution_count": 12,
   "source": [
    "model = K.Sequential([\r\n",
    "    K.layers.BatchNormalization(input_shape=(13,)),\r\n",
    "    K.layers.Dense(units=13, activation=\"softplus\", kernel_regularizer=\"l1\"),\r\n",
    "    K.layers.Dense(units=1)\r\n",
    "])\r\n",
    "\r\n",
    "model.compile(loss=\"mean_squared_error\", optimizer=\"sgd\")\r\n",
    "model.fit(X_train, y_train, epochs=8)\r\n",
    "\r\n",
    "predicts = model.predict(X_test)\r\n",
    "result = pd.DataFrame({\r\n",
    "    \"predict\" : np.reshape(predicts, (-1,)),\r\n",
    "    \"actual\": y_test\r\n",
    "})\r\n",
    "limit = np.max(y_test)\r\n",
    "\r\n",
    "result.plot.scatter(x=\"actual\", y=\"predict\", xlim=(0,limit), ylim=(0,limit))\r\n",
    "plt.show"
   ],
   "outputs": [
    {
     "output_type": "stream",
     "name": "stdout",
     "text": [
      "Epoch 1/8\n",
      "11/11 [==============================] - 0s 1ms/step - loss: 173.8888\n",
      "Epoch 2/8\n",
      "11/11 [==============================] - 0s 637us/step - loss: 61.3577\n",
      "Epoch 3/8\n",
      "11/11 [==============================] - 0s 728us/step - loss: 30.8729\n",
      "Epoch 4/8\n",
      "11/11 [==============================] - 0s 726us/step - loss: 31.5098\n",
      "Epoch 5/8\n",
      "11/11 [==============================] - 0s 726us/step - loss: 49.2832\n",
      "Epoch 6/8\n",
      "11/11 [==============================] - 0s 726us/step - loss: 28.4637\n",
      "Epoch 7/8\n",
      "11/11 [==============================] - 0s 818us/step - loss: 25.2840\n",
      "Epoch 8/8\n",
      "11/11 [==============================] - 0s 636us/step - loss: 30.4825\n"
     ]
    },
    {
     "output_type": "execute_result",
     "data": {
      "text/plain": [
       "<function matplotlib.pyplot.show(close=None, block=None)>"
      ]
     },
     "metadata": {},
     "execution_count": 12
    },
    {
     "output_type": "display_data",
     "data": {
      "image/png": "[encoded data removed]",
      "text/plain": [
       "<Figure size 432x288 with 1 Axes>"
      ]
     },
     "metadata": {
      "needs_background": "light"
     }
    }
   ],
   "metadata": {}
  },
  {
   "cell_type": "markdown",
   "source": [
    "## 実際に適用"
   ],
   "metadata": {}
  },
  {
   "cell_type": "code",
   "execution_count": 1,
   "source": [
    "import os\r\n",
    "import io\r\n",
    "import re\r\n",
    "from collections import namedtuple\r\n",
    "from collections import deque\r\n",
    "import numpy as np\r\n",
    "import tensorflow as tf\r\n",
    "from tensorflow.python import keras as K\r\n",
    "from PIL import Image\r\n",
    "import matplotlib.pyplot as plt"
   ],
   "outputs": [],
   "metadata": {}
  },
  {
   "cell_type": "code",
   "execution_count": 15,
   "source": [
    "Experience = namedtuple(\"Experience\",\r\n",
    "                       [\"s\", \"a\", \"r\", \"n_s\", \"d\"])"
   ],
   "outputs": [],
   "metadata": {}
  },
  {
   "cell_type": "code",
   "execution_count": 16,
   "source": [
    "class FNAgent():\r\n",
    "    \r\n",
    "    def __init__(self, epsilon, actions):\r\n",
    "        self.epsilon = epsilon\r\n",
    "        self.actions = actions\r\n",
    "        self.model = None\r\n",
    "        self.estimate_probs = False\r\n",
    "        self.initialized = False\r\n",
    "        \r\n",
    "    def save(self, model_path):\r\n",
    "        self.model.save(model, overwrite=True, include_optimizer=False)\r\n",
    "        \r\n",
    "    @classmethod\r\n",
    "    def load(cls, env, model_path, epsilon=0.0001):\r\n",
    "        actions = list(range(env.action_space.n))\r\n",
    "        agent = cls(epsilon, actions)\r\n",
    "        agent.model = K.models.load_model(model_path)\r\n",
    "        agent.initialized = True\r\n",
    "        return agent\r\n",
    "    \r\n",
    "    def initialize(self, experiences):\r\n",
    "        raise NotImplementedError(\"You have to implement initialize method\")\r\n",
    "        \r\n",
    "    def estimate(self, s):\r\n",
    "        raise NotImplementedError(\"You have to implement initialize method\")\r\n",
    "        \r\n",
    "    def update(self, experiences, gamma):\r\n",
    "        raise NotImplementedError(\"You have to implement initialize method\")\r\n",
    "        \r\n",
    "    def policy(self, s):\r\n",
    "        if np.random.random() < self.epsilon or not self.initialized:\r\n",
    "            return np.random.randint(len(self.actions))\r\n",
    "        else:\r\n",
    "            estimates = self.estimate(s)\r\n",
    "            if self.estimate_probs:\r\n",
    "                action = np.random.choice(self.actions, size=1, p=estimates)[0]\r\n",
    "                return action\r\n",
    "            else:\r\n",
    "                return np.argmax(estimates)\r\n",
    "            \r\n",
    "    def play(self, env, episode_count=5, render=True):\r\n",
    "        for e in range(episode_count):\r\n",
    "            s = env.reset()\r\n",
    "            done = False\r\n",
    "            episode_reward = 0\r\n",
    "            while not done:\r\n",
    "                if render:\r\n",
    "                    env.render()\r\n",
    "                a = self.policy(s)\r\n",
    "                n_state, reward, done, info = env.step(a)\r\n",
    "                episode_reward += reward\r\n",
    "                s = n_state\r\n",
    "            else:\r\n",
    "                print(\"Get reward {}\".format(episode_reward))"
   ],
   "outputs": [],
   "metadata": {}
  },
  {
   "cell_type": "code",
   "execution_count": null,
   "source": [
    "class Trainer():\r\n",
    "    \r\n",
    "    def __init__(self, buffer_size=1024, batch_size=32,\r\n",
    "                gamma=0.9, report_interval=10, log_dir=\"\"):\r\n",
    "        self.buffer_size = buffer_size\r\n",
    "        self.batch_size = batch_size\r\n",
    "        self.gamma = gamma\r\n",
    "        self.report_interval = report_interval\r\n",
    "        self.logger = Logger(log_dir, self.trainer_name)\r\n",
    "        self.experiences = deque(maxlen=buffer_size)\r\n",
    "        self.training = False\r\n",
    "        self.training_count = 0\r\n",
    "        self.reward_log = []\r\n",
    "        \r\n",
    "    @property\r\n",
    "    def Trainer_name(self):\r\n",
    "        class_name = self.class.name\r\n",
    "        snaked = re.sub(\"(.)([A-Z][a-z]+)\", r\"\\1_\\2\", class_name)\r\n",
    "        snaked = re.sub(\"([a-z0-9])([A-Z])\",r\"\\1_\\2\", snaked).lower()\r\n",
    "        snaked.replace(\"_trainer\", \"\")\r\n",
    "        return snaked\r\n",
    "    \r\n",
    "    def train_loop(self, env, agent, episode=200, initial_count=-1,\r\n",
    "                  render=False, observe_interval=0):\r\n",
    "        self.experiences = deque(maxlen=self.buffer_size)\r\n",
    "        self.training = False\r\n",
    "        self.training_count = 0\r\n",
    "        self.reward_log = []\r\n",
    "        frames = []\r\n",
    "        \r\n",
    "        for i in range(episode):\r\n",
    "            s = env.reset()\r\n",
    "            done = False\r\n",
    "            step_count = 0\r\n",
    "            self.episode_begin(i, agent)\r\n",
    "            while not done:\r\n",
    "                if render:\r\n",
    "                    env.render()\r\n",
    "                    "
   ],
   "outputs": [],
   "metadata": {}
  },
  {
   "cell_type": "code",
   "execution_count": 3,
   "source": [
    "from base_utils import *\r\n",
    "\r\n",
    "class State():\r\n",
    "    def __init__(self, row=-1, column=-1):\r\n",
    "        self.column = column\r\n",
    "        self.row = row\r\n",
    "\r\n",
    "    # 状態の表現\r\n",
    "    def repr(self):\r\n",
    "        return \"<State:[{}, {}]>\".format(self.row, self.column)\r\n",
    "    # クローン生成\r\n",
    "\r\n",
    "    def clone(self):\r\n",
    "        return State(self.row, self.column)\r\n",
    "    # ハッシュ型のクローン?\r\n",
    "\r\n",
    "    def __hash__(self):\r\n",
    "        return hash((self.row, self.column))\r\n",
    "\r\n",
    "    # 同値判定\r\n",
    "    def __eq__(self, other):\r\n",
    "        return self.row == other.row and self.column == other.column\r\n",
    "\r\n",
    "state1 = State(1, 0)\r\n",
    "state2 = State(1, 0)\r\n",
    "state1 == state2\r\n",
    "aiueo={}\r\n",
    "aiueo[state1]=3\r\n",
    "aiueo[state2]=2\r\n",
    "aiueo"
   ],
   "outputs": [
    {
     "output_type": "execute_result",
     "data": {
      "text/plain": [
       "{<__main__.State at 0x231ab668a48>: 2}"
      ]
     },
     "metadata": {},
     "execution_count": 3
    }
   ],
   "metadata": {}
  },
  {
   "cell_type": "code",
   "execution_count": 3,
   "source": [
    "from collections import defaultdict\r\n",
    "Q = []\r\n",
    "for i in range(4):\r\n",
    "    Q.append([])\r\n",
    "for i in range(4):\r\n",
    "    for j in range(4):\r\n",
    "        Q[i].append(defaultdict(lambda: [0] * 4))\r\n",
    "\r\n",
    "\r\n",
    "print(Q[0][0])\r\n",
    "print(Q[0][1])\r\n",
    "print(Q[0][2])\r\n",
    "print(Q[0][3])"
   ],
   "outputs": [
    {
     "output_type": "stream",
     "name": "stdout",
     "text": [
      "defaultdict(<function <lambda> at 0x000001EFF89F6A68>, {})\n",
      "defaultdict(<function <lambda> at 0x000001EFF89F6DC8>, {})\n",
      "defaultdict(<function <lambda> at 0x000001EFF89F6E58>, {})\n",
      "defaultdict(<function <lambda> at 0x000001EFF89F6EE8>, {})\n"
     ]
    }
   ],
   "metadata": {}
  },
  {
   "cell_type": "code",
   "execution_count": 3,
   "source": [
    "state_transition_header_label=['Step', 'state', 'action', 'reward', 'total_reward']\r\n",
    "state_transition_with_goal_header_label=['Step', 'state', 'action', 'reward', 'total_reward', 'my_goal', 'est_other_goal']\r\n",
    "len(state_transition_header_label)\r\n",
    "len(state_transition_with_goal_header_label)\r\n",
    "dict_A={'Step':1, 'state':2, 'action':3, 'reward':4, 'total_reward':5}\r\n",
    "len(dict_A)"
   ],
   "outputs": [
    {
     "output_type": "execute_result",
     "data": {
      "text/plain": [
       "5"
      ]
     },
     "metadata": {},
     "execution_count": 3
    }
   ],
   "metadata": {}
  },
  {
   "cell_type": "code",
   "execution_count": null,
   "source": [],
   "outputs": [],
   "metadata": {}
  }
 ],
 "metadata": {
  "kernelspec": {
   "name": "python3",
   "display_name": "Python 3.7.6 64-bit ('base': conda)"
  },
  "language_info": {
   "codemirror_mode": {
    "name": "ipython",
    "version": 3
   },
   "file_extension": ".py",
   "mimetype": "text/x-python",
   "name": "python",
   "nbconvert_exporter": "python",
   "pygments_lexer": "ipython3",
   "version": "3.7.6"
  },
  "interpreter": {
   "hash": "2da2c689bcbdc81ffb12f9ea3ada557aed2fed0a351d241fac99806fabc4ed98"
  }
 },
 "nbformat": 4,
 "nbformat_minor": 5
}