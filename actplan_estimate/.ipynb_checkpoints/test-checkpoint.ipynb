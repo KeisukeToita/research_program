{
 "cells": [
  {
   "cell_type": "code",
   "execution_count": 10,
   "metadata": {},
   "outputs": [],
   "source": [
    "from actplan_agent import *\n",
    "from actplan_logger import *\n",
    "from actplan_trainer import *\n",
    "from maze_8direction import *\n",
    "from base_utils import *\n",
    "\n"
   ]
  },
  {
   "cell_type": "code",
   "execution_count": 18,
   "metadata": {},
   "outputs": [
    {
     "data": {
      "text/plain": [
       "[3, 4, 56, 23, 5, 6, 7, 8]"
      ]
     },
     "execution_count": 18,
     "metadata": {},
     "output_type": "execute_result"
    }
   ],
   "source": [
    "def make_actplan_policy(policy, actplan):\n",
    "        #TODO 行動方針に応じたpolicyを出力するための関数\n",
    "        actplan_policy = copy.deepcopy(policy)\n",
    "        actplans = [ActPlan.straight, ActPlan.go_right, ActPlan.go_left, ActPlan.no_needed]\n",
    "\n",
    "        if actplan == actplans[0]:#straight\n",
    "            for i in range(1,8):\n",
    "                actplan_policy[i] = -99 #UP ONLY\n",
    "        elif actplan == actplans[1]:#right\n",
    "            actplan_policy[0] = -99\n",
    "            for i in range(3,8):\n",
    "                actplan_policy[i] = -99# UR&R ONLY\n",
    "        elif actplan == actplans[2]:#left\n",
    "            for i in range(0,6):\n",
    "                actplan_policy[i] = -99 # UL&L ONLY\n",
    "        elif actplan == actplans[3]:#no needed\n",
    "            #目的用の方策にするか，縛らないのか，，どうしようかね，\n",
    "            pass\n",
    "\n",
    "        return actplan_policy\n",
    "policy = [3,4,56,23,5,6,7,8]\n",
    "make_actplan_policy(policy, 3)"
   ]
  },
  {
   "cell_type": "code",
   "execution_count": 61,
   "metadata": {},
   "outputs": [
    {
     "name": "stdout",
     "output_type": "stream",
     "text": [
      "time: 12.73679494857788 [sec]\n",
      "--------\n",
      "average: 12.73679494857788 [sec]\n"
     ]
    }
   ],
   "source": [
    "import time\n",
    "from joblib import Parallel, delayed\n",
    "from multiprocessing import Pool\n",
    "import multiprocessing as multi\n",
    "import sys\n",
    "import functools\n",
    "\n",
    "\n",
    "def process(i):\n",
    "    return [{'id': j, 'sum': sum(range(i*j))} for j in range(1000)]\n",
    "\n",
    "\n",
    "#def process(n):\n",
    "#    return sum([i*n for i in range(100000)])\n",
    "\n",
    "\n",
    "def usejoblib(job, num):\n",
    "    result =Parallel(n_jobs=job)([delayed(process)(n) for n in range(num)])\n",
    "    return result\n",
    "\n",
    "\n",
    "def usemulti(job, num):\n",
    "    p = Pool(multi.cpu_count() if job < 0 else job)\n",
    "    result = p.map(process, range(num))\n",
    "    p.close()\n",
    "    return result\n",
    "\n",
    "\n",
    "argv = [0, 'joblib', 10, 100]\n",
    "total = 0\n",
    "n = 1\n",
    "\n",
    "for i in range(n):\n",
    "    s = time.time()\n",
    "    if argv[1] == 'joblib':\n",
    "        result = usejoblib(int(argv[2]),int(argv[3]))\n",
    "    elif argv[1] == 'multi':\n",
    "        result = usemulti(int(argv[2]),int(argv[3]))\n",
    "    else:\n",
    "        result = [process(j) for j in range(int(argv[3]))]\n",
    "    elapsed = time.time()-s\n",
    "    print('time: {0} [sec]'.format(elapsed))\n",
    "    total += elapsed\n",
    "\n",
    "print('--------')\n",
    "print('average: {0} [sec]'.format(total/n))\n",
    "\n",
    "#print('total: {0}'.format(sum(result)))\n"
   ]
  },
  {
   "cell_type": "code",
   "execution_count": 57,
   "metadata": {},
   "outputs": [
    {
     "data": {
      "text/plain": [
       "'joblib'"
      ]
     },
     "execution_count": 57,
     "metadata": {},
     "output_type": "execute_result"
    }
   ],
   "source": [
    "argv[1]"
   ]
  },
  {
   "cell_type": "code",
   "execution_count": 25,
   "metadata": {},
   "outputs": [
    {
     "name": "stdout",
     "output_type": "stream",
     "text": [
      "[4.07487898 5.03633195 4.86257324 ... 5.12062281 5.44708386 5.52989904]\n"
     ]
    },
    {
     "data": {
      "image/png": "[encoded data removed]",
      "text/plain": [
       "<Figure size 432x288 with 1 Axes>"
      ]
     },
     "metadata": {
      "needs_background": "light"
     },
     "output_type": "display_data"
    }
   ],
   "source": [
    "import numpy as np\n",
    "import matplotlib.pyplot as plt\n",
    "\n",
    "a = np.random.normal(\n",
    "    loc   = 5,      # 平均\n",
    "    scale = 0.3,      # 標準偏差\n",
    "    size  = 1000000,# 出力配列のサイズ(タプルも可)\n",
    ")\n",
    "\n",
    "print(a)\n",
    "\n",
    "plt.hist(a, bins=100)\n",
    "plt.xlim(-10, 10)\n",
    "plt.show()"
   ]
  },
  {
   "cell_type": "code",
   "execution_count": 69,
   "metadata": {},
   "outputs": [],
   "source": [
    "import csv\n",
    "import os\n",
    "import matplotlib.pyplot as plt\n",
    "from maze_8direction import *\n",
    "from collections import deque\n",
    "import numpy as np\n",
    "\n",
    "\n",
    "class Data_loader:\n",
    "    SEED_N = 10\n",
    "\n",
    "    \"\"\"\n",
    "    #TODO 見直しと実際のロードができるか確認．\n",
    "    \"\"\"\n",
    "\n",
    "    def __init__(self, load_dir_path, agent_n):\n",
    "        self.dir_path = load_dir_path\n",
    "        self.agent_n = agent_n\n",
    "\n",
    "        self.reward_dir = self.dir_path+\"reward/\"\n",
    "        self.transition_dir = self.dir_path+\"agents_transition/\"\n",
    "        self.policy_dir = self.dir_path+\"policy/\"\n",
    "\n",
    "        self.Agents_transition_dir=[]\n",
    "        self.Agents_reward_dir=[]\n",
    "        self.Agents_policy_dir=[]\n",
    "\n",
    "        for seed in range(self.SEED_N):\n",
    "            rewdir = self.reward_dir + \"seed\" + str(seed+1) + \"/\"\n",
    "            tradir = self.transition_dir + \"seed\" + str(seed+1) + \"/\"\n",
    "            poldir = self.policy_dir + \"seed\" + str(seed+1) + \"/\"\n",
    "            \n",
    "            self.Agents_transition_dir.append(tradir)\n",
    "            self.Agents_policy_dir.append(poldir)\n",
    "            self.Agents_reward_dir.append(rewdir)\n",
    "            \n",
    "    def goalQ_table_load(self, number):\n",
    "        goal_n = 4\n",
    "        seed = 0\n",
    "\n",
    "        goalQ = []\n",
    "        for i in range(goal_n):\n",
    "            goalQ.append([])\n",
    "        for i in range(goal_n):\n",
    "            for j in range(goal_n):\n",
    "                goalQ[i].append(defaultdict(lambda: [0] * len(self.actions)))\n",
    "\n",
    "        for i in range(goal_n):\n",
    "            for j in range(goal_n):\n",
    "                filename = self.Agents_policy_dir[seed]+\"Agent\"+str(number+1)+\"episode200000/goal/agent\"+str(number+1)+\"episode\"+str(episode_n)+\"goalQ-table\"+str(my_goal)+str(other_goal)+\".csv\"\n",
    "                \n",
    "                with open(filename, 'r', encoding='shift-jis', newline='') as f:\n",
    "                    Qlist = csv.reader(f,  delimiter=\",\", doublequote=True, lineterminator=\"\\r\\n\", quotechar='\"', skipinitialspace=True)\n",
    "                    print(Qlist)\n",
    "                    header = next(Qlist)\n",
    "\n",
    "                    for i in range(4):\n",
    "                        for j in range(4):\n",
    "                            Q_value = next(Qlist)\n",
    "                            for k in range(8):\n",
    "                                goalQ[i][j][Q_value[0]][k] = float(Q_value[k+1])\n",
    "        \n",
    "        return goalQ\n",
    "\n",
    "                \n",
    "    def actplanQ_table_load(self, number):\n",
    "        actplan_n = 4\n",
    "        direction_n = 4\n",
    "        seed = 0\n",
    "\n",
    "        actplanQ = []\n",
    "        for i in range(actplan_n):\n",
    "            actplanQ.append([])\n",
    "        for i in range(actplan_n):\n",
    "            for j in range(direction_n):\n",
    "                actplanQ[i].append(defaultdict(lambda: [0] * 8))\n",
    "        \n",
    "        actplan_str = [\"str\", \"go_r\", \"go_l\", \"no\"]\n",
    "\n",
    "        for i in range(actplan_n):\n",
    "            for j in range(direction_n):\n",
    "                filename = self.Agents_policy_dir[seed]+\"Agent\"+str(number+1)+\"/episode200000/actplan/agent\"+str(number+1)+\"episode200000actplanQ-table\"+str(i)+actplan_str[j]+\".csv\"\n",
    "            #TODO 要見直し!!!! csv.readerの使用を確認しよう\n",
    "                with open(filename, 'r', encoding='shift-jis', newline='') as f:     \n",
    "                    Qlist = csv.reader(f,  delimiter=\",\", doublequote=True, lineterminator=\"\\r\\n\", quotechar='\"', skipinitialspace=True)\n",
    "                    header = next(Qlist)                        \n",
    "                    for i in range(4):\n",
    "                        for j in range(4):\n",
    "                            Q_value = next(Qlist)\n",
    "                            for k in range(8):\n",
    "                                actplanQ[i][j][Q_value[0]][k] = float(Q_value[k+1])\n",
    "\n",
    "        return actplanQ"
   ]
  },
  {
   "cell_type": "code",
   "execution_count": 70,
   "metadata": {},
   "outputs": [
    {
     "name": "stdout",
     "output_type": "stream",
     "text": [
      "[-1.590314220587293e-10, 0.0, 0.0, 0.0, 0.0, 0.0, 0.0, -0.4132892589922668]\n",
      "-3.180628441174586e-10\n"
     ]
    }
   ],
   "source": [
    "log_dir_path = \"../../result/202109231449_important_data_Actplan_agent_3direction/\"\n",
    "\n",
    "loader = Data_loader(log_dir_path, 2)\n",
    "\n",
    "actplanQ = loader.actplanQ_table_load(1)\n",
    "\n",
    "print(actplanQ[0][0]['<State:[-2, -2]>'])\n",
    "print(actplanQ[0][0]['<State:[-2, -2]>'][0]+actplanQ[0][0]['<State:[-2, -2]>'][0])\n"
   ]
  },
  {
   "cell_type": "code",
   "execution_count": null,
   "metadata": {},
   "outputs": [],
   "source": []
  }
 ],
 "metadata": {
  "interpreter": {
   "hash": "e3eba238a047c0b4daaad6c540b3b24337893edbd3c98a5f4b6071997b3be14b"
  },
  "kernelspec": {
   "display_name": "Python 3.7.10 64-bit ('research': conda)",
   "name": "python3"
  },
  "language_info": {
   "codemirror_mode": {
    "name": "ipython",
    "version": 3
   },
   "file_extension": ".py",
   "mimetype": "text/x-python",
   "name": "python",
   "nbconvert_exporter": "python",
   "pygments_lexer": "ipython3",
   "version": "3.7.10"
  },
  "orig_nbformat": 4
 },
 "nbformat": 4,
 "nbformat_minor": 2
}
