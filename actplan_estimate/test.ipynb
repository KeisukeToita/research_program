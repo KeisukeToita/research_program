{
 "cells": [
  {
   "cell_type": "code",
   "execution_count": 13,
   "source": [
    "from actplan_agent import *\r\n",
    "from actplan_logger import *\r\n",
    "from actplan_trainer import *\r\n",
    "from maze_8direction import *\r\n",
    "from base_utils import *\r\n",
    "\r\n",
    "def get_relative_state(my_state, other_state, o_Dir=None):\r\n",
    "    m_r = my_state.row\r\n",
    "    m_c = my_state.column\r\n",
    "    o_c = other_state.column\r\n",
    "    o_r = other_state.row\r\n",
    "    #relative column & relative row\r\n",
    "    r_r, r_c = o_r-m_r, o_c-m_c\r\n",
    "    #direction\r\n",
    "    if o_Dir == None:\r\n",
    "        Dir = 0\r\n",
    "    else:\r\n",
    "        Dir = o_Dir\r\n",
    "    #rotate    \r\n",
    "    if Dir == 0 or Dir == 1:\r\n",
    "        angle = 0\r\n",
    "    elif Dir == 2 or Dir == 3:\r\n",
    "        r_r, r_c = r_c*-1, r_r\r\n",
    "        angle = 90\r\n",
    "    elif Dir == 4 or Dir == 5:\r\n",
    "        r_r, r_c = r_r*-1, r_c*-1\r\n",
    "        angle = 180\r\n",
    "    elif Dir == 6 or Dir == 7:\r\n",
    "        r_r, r_c = r_c, r_r*-1\r\n",
    "        angle = 270\r\n",
    "\r\n",
    "    return State(r_r, r_c), angle\r\n",
    "\r\n",
    "def mode_update(my_state, other_state):\r\n",
    "    m_row = my_state.row\r\n",
    "    m_col = my_state.column\r\n",
    "    #mode judge\r\n",
    "    mode = 0\r\n",
    "    for x in range(-2, 3):\r\n",
    "        for y in range(-2, 3):\r\n",
    "            if other_state.repr() == State(m_row+y, m_col+x).repr():\r\n",
    "                mode = 1\r\n",
    "    #mode set\r\n",
    "    print(mode)\r\n",
    "\r\n",
    "stateA = State(0, 6)\r\n",
    "stateB = State(2, 7)\r\n",
    "\r\n",
    "mode_update(stateA, stateB)\r\n",
    "mode_update(stateB, stateA)"
   ],
   "outputs": [
    {
     "output_type": "stream",
     "name": "stdout",
     "text": [
      "1\n",
      "1\n"
     ]
    }
   ],
   "metadata": {}
  },
  {
   "cell_type": "code",
   "execution_count": null,
   "source": [],
   "outputs": [],
   "metadata": {}
  }
 ],
 "metadata": {
  "orig_nbformat": 4,
  "language_info": {
   "name": "python",
   "version": "3.7.10",
   "mimetype": "text/x-python",
   "codemirror_mode": {
    "name": "ipython",
    "version": 3
   },
   "pygments_lexer": "ipython3",
   "nbconvert_exporter": "python",
   "file_extension": ".py"
  },
  "kernelspec": {
   "name": "python3",
   "display_name": "Python 3.7.10 64-bit ('research': conda)"
  },
  "interpreter": {
   "hash": "e3eba238a047c0b4daaad6c540b3b24337893edbd3c98a5f4b6071997b3be14b"
  }
 },
 "nbformat": 4,
 "nbformat_minor": 2
}